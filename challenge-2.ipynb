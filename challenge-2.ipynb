{
 "cells": [
  {
   "cell_type": "markdown",
   "metadata": {},
   "source": [
    "## Challenge 2: Sets\n",
    "\n",
    "There are a lot to learn about Python Sets and the information presented in the lesson is limited due to its length. To learn Python Sets in depth you are strongly encouraged to review the W3Schools tutorial on [Python Sets Examples and Methods](https://www.w3schools.com/python/python_sets.asp) before you work on this lab. Some difficult questions in this lab have their solutions in the W3Schools tutorial.\n",
    "\n",
    "#### First, import the Python `random` library."
   ]
  },
  {
   "cell_type": "code",
   "execution_count": 90,
   "metadata": {},
   "outputs": [],
   "source": [
    "import random"
   ]
  },
  {
   "cell_type": "markdown",
   "metadata": {},
   "source": [
    "#### In the cell below, create a list named `sample_list_1` with 80 random values. \n",
    "\n",
    "Requirements:\n",
    "\n",
    "* Each value is an integer falling between 0 and 100.\n",
    "* Each value in the list is unique.\n",
    "\n",
    "Print `sample_list_1` to review its values\n",
    "\n",
    "*Hint: use `random.sample` ([reference](https://docs.python.org/3/library/random.html#random.sample)).*"
   ]
  },
  {
   "cell_type": "code",
   "execution_count": 91,
   "metadata": {},
   "outputs": [
    {
     "name": "stdout",
     "output_type": "stream",
     "text": [
      "[67, 25, 59, 83, 12, 6, 31, 30, 51, 90, 42, 18, 98, 72, 19, 61, 36, 60, 27, 15, 80, 94, 29, 48, 100, 23, 85, 86, 10, 58, 34, 70, 99, 95, 75, 41, 11, 28, 69, 4, 92, 45, 13, 9, 62, 52, 47, 73, 87, 54, 38, 33, 93, 43, 49, 32, 44, 97, 22, 21, 55, 84, 76, 96, 5, 88, 66, 24, 65, 46, 7, 79, 53, 35, 40, 1, 16, 8, 78, 2]\n"
     ]
    }
   ],
   "source": [
    "sample_list_1 = random.sample(range(101),80)\n",
    "sample_list_1\n",
    "print(sample_list_1)\n",
    "\n",
    "# La función sample, se encargará de generar valores únicos.\n",
    "# range(101), genera un número de rangos de 0 a 100 (inclusive). Se pone 101 porque nunca cuenta el último valor.\n",
    "# Si usara range(100), me saldrían valores de 0 a 99.\n",
    "# Por otro lado, añado seguidamente el 80 que es el número de valores que quiero que me aparezcan en la lista."
   ]
  },
  {
   "cell_type": "markdown",
   "metadata": {},
   "source": [
    "#### Convert `sample_list_1` to a set called `set1`. Print the length of the set. Is its length still 80?"
   ]
  },
  {
   "cell_type": "code",
   "execution_count": 92,
   "metadata": {},
   "outputs": [
    {
     "name": "stdout",
     "output_type": "stream",
     "text": [
      "{1, 2, 4, 5, 6, 7, 8, 9, 10, 11, 12, 13, 15, 16, 18, 19, 21, 22, 23, 24, 25, 27, 28, 29, 30, 31, 32, 33, 34, 35, 36, 38, 40, 41, 42, 43, 44, 45, 46, 47, 48, 49, 51, 52, 53, 54, 55, 58, 59, 60, 61, 62, 65, 66, 67, 69, 70, 72, 73, 75, 76, 78, 79, 80, 83, 84, 85, 86, 87, 88, 90, 92, 93, 94, 95, 96, 97, 98, 99, 100}\n",
      "80\n"
     ]
    }
   ],
   "source": [
    "set1 = set(sample_list_1)\n",
    "print(set1)\n",
    "\n",
    "len(set1)\n",
    "print(len(set1))"
   ]
  },
  {
   "cell_type": "markdown",
   "metadata": {},
   "source": [
    "#### Create another list named `sample_list_2` with 80 random values.\n",
    "\n",
    "Requirements:\n",
    "\n",
    "* Each value is an integer falling between 0 and 100.\n",
    "* The values in the list don't have to be unique.\n",
    "\n",
    "*Hint: Use a FOR loop.*"
   ]
  },
  {
   "cell_type": "code",
   "execution_count": 93,
   "metadata": {},
   "outputs": [
    {
     "name": "stdout",
     "output_type": "stream",
     "text": [
      "[6, 61, 59, 29, 77, 3, 56, 84, 26, 31, 69, 69, 69, 74, 7, 65, 18, 50, 28, 69, 52, 8, 18, 100, 3, 29, 78, 26, 55, 86, 98, 32, 72, 38, 64, 5, 19, 16, 15, 89, 65, 86, 33, 91, 5, 99, 53, 58, 46, 26, 5, 100, 90, 48, 78, 22, 27, 68, 47, 74, 31, 5, 77, 29, 57, 45, 20, 10, 39, 71, 66, 6, 45, 1, 63, 36, 7, 55, 16, 77]\n"
     ]
    }
   ],
   "source": [
    "sample_list_2 = random.choices(range(101),k=80)\n",
    "sample_list_2\n",
    "print(sample_list_2)\n",
    "\n",
    "# Para que sakgan números aleatorios y que se puedan repetir utilizamos \"range.choices(...)\"\n",
    "# En este caso es necesario añadir una \"k\" para especificar el número de valores que quiero que me salgan."
   ]
  },
  {
   "cell_type": "markdown",
   "metadata": {},
   "source": [
    "#### Convert `sample_list_2` to a set called `set2`. Print the length of the set. Is its length still 80?"
   ]
  },
  {
   "cell_type": "code",
   "execution_count": 94,
   "metadata": {},
   "outputs": [
    {
     "name": "stdout",
     "output_type": "stream",
     "text": [
      "{1, 3, 5, 6, 7, 8, 10, 15, 16, 18, 19, 20, 22, 26, 27, 28, 29, 31, 32, 33, 36, 38, 39, 45, 46, 47, 48, 50, 52, 53, 55, 56, 57, 58, 59, 61, 63, 64, 65, 66, 68, 69, 71, 72, 74, 77, 78, 84, 86, 89, 90, 91, 98, 99, 100}\n",
      "55\n"
     ]
    }
   ],
   "source": [
    "set2 = set(sample_list_2)\n",
    "print(set2)\n",
    "\n",
    "len(set2)\n",
    "print(len(set2))\n",
    "\n",
    "# En set nunca se pueden repetir elementos"
   ]
  },
  {
   "cell_type": "markdown",
   "metadata": {},
   "source": [
    "#### Identify the elements present in `set1` but not in `set2`. Assign the elements to a new set named `set3`."
   ]
  },
  {
   "cell_type": "code",
   "execution_count": 95,
   "metadata": {},
   "outputs": [
    {
     "name": "stdout",
     "output_type": "stream",
     "text": [
      "los números en set1, pero no en set2 son:  [2, 4, 9, 11, 12, 13, 21, 23, 24, 25, 30, 34, 35, 40, 41, 42, 43, 44, 49, 51, 54, 60, 62, 67, 70, 73, 75, 76, 79, 80, 83, 85, 87, 88, 92, 93, 94, 95, 96, 97]\n",
      "{2, 4, 9, 11, 12, 13, 21, 23, 24, 25, 30, 34, 35, 40, 41, 42, 43, 44, 49, 51, 54, 60, 62, 67, 70, 73, 75, 76, 79, 80, 83, 85, 87, 88, 92, 93, 94, 95, 96, 97}\n"
     ]
    }
   ],
   "source": [
    "resultado1 = list(set1 - set2)\n",
    "\n",
    "print('los números en set1, pero no en set2 son: ', resultado1)\n",
    "\n",
    "set3 = resultado1\n",
    "set3 = set(set3)\n",
    "print(set3)"
   ]
  },
  {
   "cell_type": "markdown",
   "metadata": {},
   "source": [
    "#### Identify the elements present in `set2` but not in `set1`. Assign the elements to a new set named `set4`."
   ]
  },
  {
   "cell_type": "code",
   "execution_count": 111,
   "metadata": {},
   "outputs": [
    {
     "name": "stdout",
     "output_type": "stream",
     "text": [
      "los números de set2, pero no en set1 son:  [64, 1, 89, 3, 68, 39, 71, 74, 77, 50, 20, 56, 57, 26, 91, 63]\n",
      "\n",
      "{64, 1, 3, 68, 39, 71, 74, 77, 50, 20, 56, 89, 26, 91, 63, 57}\n"
     ]
    }
   ],
   "source": [
    "resultado2 = list (set2 - set1)\n",
    "\n",
    "print('los números de set2, pero no en set1 son: ', resultado2)\n",
    "\n",
    "set4 = resultado2\n",
    "set4 = set(set4)\n",
    "print()\n",
    "print(set4)"
   ]
  },
  {
   "cell_type": "markdown",
   "metadata": {},
   "source": [
    "#### Now Identify the elements shared between `set1` and `set2`. Assign the elements to a new set named `set5`."
   ]
  },
  {
   "cell_type": "code",
   "execution_count": 120,
   "metadata": {},
   "outputs": [
    {
     "name": "stdout",
     "output_type": "stream",
     "text": [
      "los números compartidos en set1 y set2 son:  [64, 1, 3, 68, 39, 71, 74, 77, 50, 20, 56, 89, 26, 91, 63, 57, 2, 4, 9, 11, 12, 13, 21, 23, 24, 25, 30, 34, 35, 40, 41, 42, 43, 44, 49, 51, 54, 60, 62, 67, 70, 73, 75, 76, 79, 80, 83, 85, 87, 88, 92, 93, 94, 95, 96, 97]\n",
      "\n",
      "{1, 2, 3, 4, 9, 11, 12, 13, 20, 21, 23, 24, 25, 26, 30, 34, 35, 39, 40, 41, 42, 43, 44, 49, 50, 51, 54, 56, 57, 60, 62, 63, 64, 67, 68, 70, 71, 73, 74, 75, 76, 77, 79, 80, 83, 85, 87, 88, 89, 91, 92, 93, 94, 95, 96, 97}\n"
     ]
    }
   ],
   "source": [
    "resultado3 = list(set4) + list(set3)\n",
    "\n",
    "print('los números compartidos en set1 y set2 son: ', resultado3)\n",
    "\n",
    "set5 = resultado3\n",
    "set5 = set(set5)\n",
    "print()\n",
    "print(set5)"
   ]
  },
  {
   "cell_type": "markdown",
   "metadata": {},
   "source": [
    "#### What is the relationship among the following values:\n",
    "\n",
    "* len(set1)\n",
    "* len(set2)\n",
    "* len(set3)\n",
    "* len(set4)\n",
    "* len(set5)\n",
    "\n",
    "Use a math formular to represent that relationship. Test your formular with Python code."
   ]
  },
  {
   "cell_type": "code",
   "execution_count": 98,
   "metadata": {},
   "outputs": [
    {
     "name": "stdout",
     "output_type": "stream",
     "text": [
      "80\n",
      "55\n",
      "40\n",
      "15\n",
      "45\n"
     ]
    }
   ],
   "source": [
    "len(set1)\n",
    "print(len(set1))\n",
    "\n",
    "len(set2)\n",
    "print(len(set2))\n",
    "\n",
    "len(set3)\n",
    "print(len(set3))\n",
    "\n",
    "len(set4)\n",
    "print(len(set4))\n",
    "\n",
    "len(set5)\n",
    "print(len(set5))\n"
   ]
  },
  {
   "cell_type": "markdown",
   "metadata": {},
   "source": [
    "#### Create an empty set called `set6`."
   ]
  },
  {
   "cell_type": "code",
   "execution_count": 99,
   "metadata": {},
   "outputs": [],
   "source": [
    "set6 = set()\n"
   ]
  },
  {
   "cell_type": "markdown",
   "metadata": {},
   "source": [
    "#### Add `set3` and `set5` to `set6` using the Python Set `update` method."
   ]
  },
  {
   "cell_type": "code",
   "execution_count": 100,
   "metadata": {},
   "outputs": [
    {
     "name": "stdout",
     "output_type": "stream",
     "text": [
      "{0, 1, 2, 3, 4, 6, 9, 11, 12, 13, 14, 18, 19, 20, 21, 22, 23, 24, 25, 26, 27, 30, 31, 32, 33, 34, 35, 40, 41, 42, 43, 44, 46, 48, 49, 50, 51, 54, 58, 60, 62, 65, 66, 67, 69, 70, 71, 73, 75, 76, 79, 80, 83, 85, 86, 87, 88, 91, 92, 93, 94, 95, 96, 97, 98}\n"
     ]
    }
   ],
   "source": [
    "set6.update(set3)\n",
    "set6.update(set5)\n",
    "\n",
    "print(set6)"
   ]
  },
  {
   "cell_type": "markdown",
   "metadata": {},
   "source": [
    "#### Check if `set1` and `set6` are equal."
   ]
  },
  {
   "cell_type": "code",
   "execution_count": 101,
   "metadata": {},
   "outputs": [
    {
     "name": "stdout",
     "output_type": "stream",
     "text": [
      "False\n"
     ]
    }
   ],
   "source": [
    "if set1 == set6:\n",
    "    \n",
    "    print(\"True\")\n",
    "\n",
    "else:\n",
    "    print(\"False\")"
   ]
  },
  {
   "cell_type": "markdown",
   "metadata": {},
   "source": [
    "#### Check if `set1` contains `set2` using the Python Set `issubset` method. Then check if `set1` contains `set3`.*"
   ]
  },
  {
   "cell_type": "code",
   "execution_count": 102,
   "metadata": {},
   "outputs": [
    {
     "name": "stdout",
     "output_type": "stream",
     "text": [
      "False\n",
      "\n",
      "True\n"
     ]
    }
   ],
   "source": [
    "set2.issubset(set1)\n",
    "print(set2.issubset(set1))\n",
    "print()\n",
    "set3.issubset(set1)\n",
    "print(set3.issubset(set1))"
   ]
  },
  {
   "cell_type": "markdown",
   "metadata": {},
   "source": [
    "#### Using the Python Set `union` method, aggregate `set3`, `set4`, and `set5`. Then aggregate `set1` and `set2`. \n",
    "\n",
    "#### Check if the aggregated values are equal."
   ]
  },
  {
   "cell_type": "code",
   "execution_count": 122,
   "metadata": {},
   "outputs": [
    {
     "name": "stdout",
     "output_type": "stream",
     "text": [
      "[2, 4, 9, 11, 12, 13, 21, 23, 24, 25, 30, 34, 35, 40, 41, 42, 43, 44, 49, 51, 54, 60, 62, 67, 70, 73, 75, 76, 79, 80, 83, 85, 87, 88, 92, 93, 94, 95, 96, 97, 64, 1, 3, 68, 39, 71, 74, 77, 50, 20, 56, 89, 26, 91, 63, 57, 1, 2, 3, 4, 9, 11, 12, 13, 20, 21, 23, 24, 25, 26, 30, 34, 35, 39, 40, 41, 42, 43, 44, 49, 50, 51, 54, 56, 57, 60, 62, 63, 64, 67, 68, 70, 71, 73, 74, 75, 76, 77, 79, 80, 83, 85, 87, 88, 89, 91, 92, 93, 94, 95, 96, 97]\n",
      "\n",
      "[1, 2, 3, 4, 9, 11, 12, 13, 20, 21, 23, 24, 25, 26, 30, 34, 35, 39, 40, 41, 42, 43, 44, 49, 50, 51, 54, 56, 57, 60, 62, 63, 64, 67, 68, 70, 71, 73, 74, 75, 76, 77, 79, 80, 83, 85, 87, 88, 89, 91, 92, 93, 94, 95, 96, 97, 2, 4, 5, 6, 7, 8, 9, 10, 11, 12, 13, 15, 16, 18, 19, 21, 22, 23, 24, 25, 27, 28, 29, 30, 31, 32, 33, 34, 35, 36, 38, 40, 41, 42, 43, 44, 45, 46, 47, 48, 49, 51, 52, 53, 54, 55, 58, 59, 60, 61, 62, 65, 66, 67, 69, 70, 72, 73, 75, 76, 78, 79, 80, 83, 84, 85, 86, 87, 88, 90, 92, 93, 94, 95, 96, 97, 98, 99, 100, 1, 3, 5, 6, 7, 8, 10, 15, 16, 18, 19, 20, 22, 26, 27, 28, 29, 31, 32, 33, 36, 38, 39, 45, 46, 47, 48, 50, 52, 53, 55, 56, 57, 58, 59, 61, 63, 64, 65, 66, 68, 69, 71, 72, 74, 77, 78, 84, 86, 89, 90, 91, 98, 99, 100]\n"
     ]
    }
   ],
   "source": [
    "list(set3) + list(set4) + list(set5)\n",
    "print(list(set3) + list(set4) + list(set5))\n",
    "print()\n",
    "set6 = set(list(set3) + list(set4) + list(set5))\n",
    "set7 = list(set6) + list(set1) + list(set2)\n",
    "print(set7)\n",
    "set7 = set(set7)"
   ]
  },
  {
   "cell_type": "markdown",
   "metadata": {},
   "source": [
    "#### Using the `pop` method, remove the first element from `set1`."
   ]
  },
  {
   "cell_type": "code",
   "execution_count": 104,
   "metadata": {},
   "outputs": [
    {
     "name": "stdout",
     "output_type": "stream",
     "text": [
      "{2, 4, 5, 6, 7, 8, 9, 10, 11, 12, 13, 15, 16, 18, 19, 21, 22, 23, 24, 25, 27, 28, 29, 30, 31, 32, 33, 34, 35, 36, 38, 40, 41, 42, 43, 44, 45, 46, 47, 48, 49, 51, 52, 53, 54, 55, 58, 59, 60, 61, 62, 65, 66, 67, 69, 70, 72, 73, 75, 76, 78, 79, 80, 83, 84, 85, 86, 87, 88, 90, 92, 93, 94, 95, 96, 97, 98, 99, 100}\n"
     ]
    }
   ],
   "source": [
    "set1.pop()\n",
    "print(set1)"
   ]
  },
  {
   "cell_type": "markdown",
   "metadata": {},
   "source": [
    "#### Remove every element in the following list from `set1` if they are present in the set. Print the remaining elements.\n",
    "\n",
    "```\n",
    "list_to_remove = [1, 9, 11, 19, 21, 29, 31, 39, 41, 49, 51, 59, 61, 69, 71, 79, 81, 89, 91, 99]\n",
    "```"
   ]
  },
  {
   "cell_type": "code",
   "execution_count": 116,
   "metadata": {},
   "outputs": [
    {
     "name": "stdout",
     "output_type": "stream",
     "text": [
      "{1, 71, 39, 81, 89, 91}\n"
     ]
    }
   ],
   "source": [
    "list_to_remove = [1, 9, 11, 19, 21, 29, 31, 39, 41, 49, 51, 59, 61, 69, 71, 79, 81, 89, 91, 99]\n",
    "set_to_remove = set(list_to_remove)\n",
    "result_set = set_to_remove - set1\n",
    "print(result_set)\n"
   ]
  }
 ],
 "metadata": {
  "kernelspec": {
   "display_name": "Python 3 (ipykernel)",
   "language": "python",
   "name": "python3"
  },
  "language_info": {
   "codemirror_mode": {
    "name": "ipython",
    "version": 3
   },
   "file_extension": ".py",
   "mimetype": "text/x-python",
   "name": "python",
   "nbconvert_exporter": "python",
   "pygments_lexer": "ipython3",
   "version": "3.11.5"
  }
 },
 "nbformat": 4,
 "nbformat_minor": 2
}
